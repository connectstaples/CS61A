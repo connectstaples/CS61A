{
 "cells": [
  {
   "cell_type": "markdown",
   "metadata": {},
   "source": [
    "next() is a built-in function in Python. It is used to retrieve the next item from an iterator. When called, it advances the iterator to the next element and returns it. If there are no more items, it raises a StopIteration exception, unless a default value is provided as an argument, in which case the default value is returned. \n",
    "\n",
    "\n",
    "The map() function in Python applies a given function to each item of an iterable (like a list or tuple) and returns an iterator that yields the results. It provides a way to perform an operation on all items in an iterable without using an explicit loop. The map() function takes two arguments: the function to apply and the iterable to process."
   ]
  },
  {
   "cell_type": "code",
   "execution_count": null,
   "metadata": {},
   "outputs": [],
   "source": [
    "## Map example\n",
    "\n",
    "def square(x):\n",
    "    return x * x\n",
    "\n",
    "numbers = [1, 2, 3, 4, 5]\n",
    "squared_numbers = map(square, numbers)\n",
    "print(list(squared_numbers))  # Output: [1, 4, 9, 16, 25]\n"
   ]
  }
 ],
 "metadata": {
  "language_info": {
   "name": "python"
  }
 },
 "nbformat": 4,
 "nbformat_minor": 2
}
