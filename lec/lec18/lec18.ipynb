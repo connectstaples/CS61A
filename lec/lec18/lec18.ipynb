{
 "cells": [
  {
   "cell_type": "markdown",
   "metadata": {},
   "source": [
    "# CS61A Lec18: Objects\n",
    "## Sp 2025, Denero \n",
    "### Sean Villegas\n",
    "\n",
    "[Videos](https://www.youtube.com/watch?v=XdRZkeCRXs4&list=PL6BsET-8jgYVz2dLlWRsktOrtqO8wWRsy&index=1)\n",
    "\n",
    "Notes: \n",
    "\n",
    "- **A class describes the behavior of its instances** \n",
    "- **Object is an instance of a class; class is its type** \n",
    "- **Methods are functions defined in a class statement** \n",
    "    - function called on object using a dot: `s.append(5)`\n",
    "- any attribute can be assigned any value\n",
    "- the value of an existing attribute can be changed\n",
    "- a new attribute can be added at any time\n",
    "- creating a new instance of a class (ex: called list() which is a class)\n",
    "- every object that is an instance of user-defined class has a unique identity. if you had a `Account` instance, every call to Account creates new account instance. there is only **one** `Account` class\n",
    "- the self parameter in class allows for invoking by the dot notation `.` call. You can create a `user_def_variable.object_within_class()`\n",
    "\n"
   ]
  },
  {
   "cell_type": "code",
   "execution_count": null,
   "metadata": {},
   "outputs": [],
   "source": [
    "class Account: \n",
    "    \"\"\"\n",
    "    >>> a = Account('John')\n",
    "    >>> a.holder\n",
    "    'John'\n",
    "    >>> a.balance\n",
    "    0\n",
    "    >>> a.deposit(15)\n",
    "    15\n",
    "    >>> a.withdraw(10)\n",
    "    5\n",
    "    >>> a.balance\n",
    "    5\n",
    "    >>> a.withdraw(10)\n",
    "    (Demo) 'Insufficient funds'\n",
    "    \"\"\"\n",
    "    def __init__(self, account_holder):\n",
    "        self.balance = 0\n",
    "        self.holder = account_holder \n",
    "    def deposit(self, amount):\n",
    "        self.balance = self.balance + amount\n",
    "        return self.balance\n",
    "    def withdraw(self, amount):\n",
    "        if amount > self.balance:\n",
    "            return 'Insufficient funds'\n",
    "        self.balance = self.balance - amount\n",
    "        return self.balance"
   ]
  }
 ],
 "metadata": {
  "language_info": {
   "name": "python"
  }
 },
 "nbformat": 4,
 "nbformat_minor": 2
}
