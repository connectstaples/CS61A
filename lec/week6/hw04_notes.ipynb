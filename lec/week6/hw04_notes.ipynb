{
 "cells": [
  {
   "cell_type": "markdown",
   "metadata": {},
   "source": [
    "# CS61A Prof Denero\n",
    "## HW04 \n",
    "### Sean Villegas\n",
    "\n",
    "\n",
    "**Question 1**: Shuffle\n",
    "- [Python Tutor](https://pythontutor.com/render.html#code=def%20shuffle%28s%29%3A%0A%20%20%20%20%22%22%22Return%20a%20shuffled%20list%20that%20interleaves%20the%20two%20halves%20of%20s.%0A%0A%20%20%20%20%3E%3E%3E%20shuffle%28range%286%29%29%0A%20%20%20%20%5B0,%203,%201,%204,%202,%205%5D%0A%20%20%20%20%3E%3E%3E%20letters%20%3D%20%5B'a',%20'b',%20'c',%20'd',%20'e',%20'f',%20'g',%20'h'%5D%0A%20%20%20%20%3E%3E%3E%20shuffle%28letters%29%0A%20%20%20%20%5B'a',%20'e',%20'b',%20'f',%20'c',%20'g',%20'd',%20'h'%5D%0A%20%20%20%20%3E%3E%3E%20shuffle%28shuffle%28letters%29%29%0A%20%20%20%20%5B'a',%20'c',%20'e',%20'g',%20'b',%20'd',%20'f',%20'h'%5D%0A%20%20%20%20%3E%3E%3E%20letters%20%20%23%20Original%20list%20should%20not%20be%20modified%0A%20%20%20%20%5B'a',%20'b',%20'c',%20'd',%20'e',%20'f',%20'g',%20'h'%5D%0A%20%20%20%20%22%22%22%0A%20%20%20%20assert%20len%28s%29%20%25%202%20%3D%3D%200,%20'len%28seq%29%20must%20be%20even'%0A%20%20%20%20mid%20%3D%20len%28s%29%20//%202%0A%20%20%20%20first_half%20%3D%20s%5B%3Amid%5D%0A%20%20%20%20second_half%20%3D%20s%5Bmid%3A%5D%0A%20%20%20%20result%20%3D%20%5B%5D%0A%20%20%20%20for%20i%20in%20range%28mid%29%3A%0A%20%20%20%20%20%20%20%20result.append%28first_half%5Bi%5D%29%0A%20%20%20%20%20%20%20%20result.append%28second_half%5Bi%5D%29%0A%20%20%20%20return%20result%0A%20%20%20%20%0Ashuffle%28range%286%29%29&cumulative=false&curInstr=19&heapPrimitives=nevernest&mode=display&origin=opt-frontend.js&py=311&rawInputLstJSON=%5B%5D&textReferences=false)\n",
    "- [Homework](https://cs61a.org/hw/hw04/)"
   ]
  },
  {
   "cell_type": "code",
   "execution_count": null,
   "metadata": {},
   "outputs": [],
   "source": [
    "def shuffle(s):\n",
    "    \"\"\"Return a shuffled list that interleaves the two halves of s.\n",
    "\n",
    "    >>> shuffle(range(6))\n",
    "    [0, 3, 1, 4, 2, 5]\n",
    "    >>> letters = ['a', 'b', 'c', 'd', 'e', 'f', 'g', 'h']\n",
    "    >>> shuffle(letters)\n",
    "    ['a', 'e', 'b', 'f', 'c', 'g', 'd', 'h']\n",
    "    >>> shuffle(shuffle(letters))\n",
    "    ['a', 'c', 'e', 'g', 'b', 'd', 'f', 'h']\n",
    "    >>> letters  # Original list should not be modified\n",
    "    ['a', 'b', 'c', 'd', 'e', 'f', 'g', 'h']\n",
    "    \"\"\"\n",
    "    assert len(s) % 2 == 0, 'len(seq) must be even'\n",
    "    mid = len(s) // 2\n",
    "    first_half = s[:mid]\n",
    "    second_half = s[mid:]\n",
    "    result = []\n",
    "    for i in range(mid):\n",
    "        result.append(first_half[i])\n",
    "        result.append(second_half[i])\n",
    "    return result"
   ]
  }
 ],
 "metadata": {
  "language_info": {
   "name": "python"
  }
 },
 "nbformat": 4,
 "nbformat_minor": 2
}
