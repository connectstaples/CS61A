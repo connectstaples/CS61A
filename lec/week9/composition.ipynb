{
 "cells": [
  {
   "cell_type": "markdown",
   "metadata": {},
   "source": [
    "# CS61A, Spring 2025 Prof Denero \n",
    "## Composition Lecture\n",
    "### Linked Lists, Processing, Mutation, Tree Class & Mutation\n",
    "##### Sean Villegas\n",
    "\n",
    "Videos:\n",
    "- [Lectures](https://www.youtube.com/watch?v=yC4WPw_6ehY&list=PL6BsET-8jgYWnaras4ggDpnXGGD9G1jQS)\n",
    "\n",
    "\n",
    "#### Linked Lists, implementation with Pythons Object System\n",
    "\n",
    "[Linked List Structure](https://pythontutor.com/render.html#code=class%20Link%3A%0A%20%20%20%20empty%20%3D%20%28%29%20%20%23%20Representing%20an%20empty%20link%0A%0A%20%20%20%20def%20__init__%28self,%20first,%20rest%3Dempty%29%3A%0A%20%20%20%20%20%20%20%20self.first%20%3D%20first%0A%20%20%20%20%20%20%20%20assert%20rest%20is%20Link.empty%20or%20isinstance%28rest,%20Link%29,%20%22rest%20must%20be%20Link.empty%20or%20another%20Link%20instance%22%0A%20%20%20%20%20%20%20%20self.rest%20%3D%20rest%0A%0A%20%20%20%20def%20__repr__%28self%29%3A%0A%20%20%20%20%20%20%20%20if%20self.rest%20is%20not%20Link.empty%3A%0A%20%20%20%20%20%20%20%20%20%20%20%20return%20f%22Link%28%7Bself.first%7D,%20%7Brepr%28self.rest%29%7D%29%22%0A%20%20%20%20%20%20%20%20return%20f%22Link%28%7Bself.first%7D%29%22%0A%0A%23%20Example%20Usage%0Alinked_list%20%3D%20Link%283,%20Link%284,%20Link%285,%20Link.empty%29%29%29%0Aprint%28linked_list%29%20%20%23%20Link%283,%20Link%284,%20Link%285%29%29%29&cumulative=false&curInstr=30&heapPrimitives=nevernest&mode=display&origin=opt-frontend.js&py=311&rawInputLstJSON=%5B%5D&textReferences=false)\n",
    "\n",
    "```python\n",
    "Link(3, Link(4, Link(5, Link.empty)))\n",
    "```"
   ]
  },
  {
   "cell_type": "code",
   "execution_count": null,
   "metadata": {},
   "outputs": [
    {
     "name": "stdout",
     "output_type": "stream",
     "text": [
      "Link(3, Link(4, Link(5)))\n"
     ]
    }
   ],
   "source": [
    "class Link:\n",
    "    empty = ()  # Representing an empty link\n",
    "\n",
    "    def __init__(self, first, rest=empty):\n",
    "        self.first = first\n",
    "        assert rest is Link.empty or isinstance(rest, Link), \"rest must be Link.empty or another Link instance\"\n",
    "        self.rest = rest\n",
    "\n",
    "    def __repr__(self):\n",
    "        if self.rest is not Link.empty:\n",
    "            return f\"Link({self.first}, {repr(self.rest)})\"\n",
    "        return f\"Link({self.first})\"\n",
    "\n",
    "# Example Usage\n",
    "linked_list = Link(3, Link(4, Link(5, Link.empty)))\n",
    "print(linked_list)  # Link(3, Link(4, Link(5)))\n",
    "\n"
   ]
  },
  {
   "cell_type": "markdown",
   "metadata": {},
   "source": [
    "Little side note on class formatting: \n",
    "\n",
    "| Prefix      | Meaning                      | Accessibility                        |\n",
    "|--------------|-----------------------------|---------------------------------------|\n",
    "| `public`      | No underscore               | Fully accessible anywhere             |\n",
    "| `_protected`  | Single underscore           | Intended for internal use, but accessible |\n",
    "| `__private`   | Double underscore           | Name-mangled; intended for internal use only |\n"
   ]
  },
  {
   "cell_type": "markdown",
   "metadata": {},
   "source": [
    "#### Linked List Processing\n",
    "example: _range, map, filter for linked lists_\n",
    "- you can process with recursion\n",
    "\n",
    "#### Linked List Mutation\n",
    "- the Linked List class can change \n",
    "\n",
    "#### Tree Class\n",
    "\n",
    "- tree has multiple trees as a list \n",
    "- trees can be mutated \n",
    "\n"
   ]
  },
  {
   "cell_type": "code",
   "execution_count": null,
   "metadata": {},
   "outputs": [],
   "source": [
    "class Tree:\n",
    "    def __init__(self, label, branches=[]):\n",
    "        self.label = label\n",
    "        assert all(isinstance(b, Tree) for b in branches), \"All branches must be Tree instances\"\n",
    "        self.branches = list(branches)\n",
    "\n",
    "    def __repr__(self):\n",
    "        if self.branches:\n",
    "            return f\"Tree({self.label}, {repr(self.branches)})\"\n",
    "        return f\"Tree({self.label})\"\n",
    "\n",
    "    def __str__(self):\n",
    "        def print_tree(t, indent=0):\n",
    "            result = \"  \" * indent + str(t.label) + \"\\n\"\n",
    "            for b in t.branches:\n",
    "                result += print_tree(b, indent + 1)\n",
    "            return result\n",
    "        return print_tree(self).rstrip()\n",
    "\n",
    "    def is_leaf(self):\n",
    "        return not self.branches\n",
    "\n",
    "    # Prune Function\n",
    "    def prune(self, n):\n",
    "        self.branches = [b for b in self.branches if b.label != n]\n",
    "        for b in self.branches:\n",
    "            b.prune(n)\n",
    "\n",
    "# Fibonacci Tree Function\n",
    "def fib_tree(n):\n",
    "    if n == 0 or n == 1:\n",
    "        return Tree(n)\n",
    "    else:\n",
    "        left = fib_tree(n - 2)\n",
    "        right = fib_tree(n - 1)\n",
    "        return Tree(left.label + right.label, [left, right])\n",
    "\n",
    "# Leaves Function\n",
    "def leaves(t):\n",
    "    if t.is_leaf():\n",
    "        return [t.label]\n",
    "    all_leaves = []\n",
    "    for b in t.branches:\n",
    "        all_leaves.extend(leaves(b))\n",
    "    return all_leaves\n",
    "\n",
    "# Height Function\n",
    "def height(t):\n",
    "    if t.is_leaf():\n",
    "        return 0\n",
    "    return 1 + max(height(b) for b in t.branches)\n",
    "\n",
    "# Example Usage\n",
    "t = fib_tree(6)\n",
    "print(t)\n",
    "print(\"Leaves:\", leaves(t))\n",
    "print(\"Height:\", height(t))\n",
    "\n",
    "# Pruning Example\n",
    "t.prune(1)\n",
    "print(\"After Pruning:\")\n",
    "print(t)\n",
    "\n"
   ]
  }
 ],
 "metadata": {
  "kernelspec": {
   "display_name": "Python 3 (ipykernel)",
   "language": "python",
   "name": "python3"
  },
  "language_info": {
   "codemirror_mode": {
    "name": "ipython",
    "version": 3
   },
   "file_extension": ".py",
   "mimetype": "text/x-python",
   "name": "python",
   "nbconvert_exporter": "python",
   "pygments_lexer": "ipython3",
   "version": "3.11.8"
  }
 },
 "nbformat": 4,
 "nbformat_minor": 2
}
